{
 "cells": [
  {
   "cell_type": "code",
   "execution_count": 1,
   "metadata": {},
   "outputs": [],
   "source": [
    "import pandas as pd\n",
    "import warnings\n",
    "import numpy as np\n",
    "import optuna\n",
    "from sklearn.metrics import roc_auc_score\n",
    "import lightgbm as lgb\n",
    "from sklearn.svm import SVC\n",
    "from sklearn.linear_model import LogisticRegression, LinearRegression\n",
    "from sklearn.neighbors import KNeighborsClassifier\n",
    "from sklearn.naive_bayes import GaussianNB, BernoulliNB\n",
    "from sklearn.mixture import GaussianMixture\n",
    "\n",
    "warnings.filterwarnings(\"ignore\")"
   ]
  },
  {
   "cell_type": "code",
   "execution_count": 2,
   "metadata": {},
   "outputs": [],
   "source": [
    "train_data = pd.read_csv('train.csv', header=None)\n",
    "\n",
    "\n",
    "train_data.head()\n",
    "y = pd.read_csv('train-target.csv', header=None)\n",
    "y.rename({0: \"target\"}, axis = 'columns', inplace=True)\n",
    "train = pd.concat([train_data, y], axis = 1)\n",
    "train.columns = train.columns.astype(str)\n"
   ]
  },
  {
   "cell_type": "code",
   "execution_count": 3,
   "metadata": {},
   "outputs": [],
   "source": [
    "test = pd.read_csv('test.csv', header=None)\n",
    "test.columns = test.columns.astype(str)\n",
    "train.columns = train.columns.astype(str)\n"
   ]
  },
  {
   "cell_type": "code",
   "execution_count": 4,
   "metadata": {},
   "outputs": [],
   "source": [
    "train['target'] = train['target'].astype(int)\n",
    "train_new = train.drop(['9', '15', '16', '17', '22', '26'], axis = 1)\n",
    "test_new = test.drop(['9', '15', '16', '17', '22', '26'], axis = 1)\n"
   ]
  },
  {
   "cell_type": "code",
   "execution_count": 5,
   "metadata": {},
   "outputs": [],
   "source": [
    "columns = test_new.columns\n",
    "test_log = test_new.copy()\n",
    "for column1 in columns:\n",
    "    for column2 in columns:\n",
    "        if column1 != column2:\n",
    "            test_log[f'{column1}' + '/' + f'{column2}'] = test[column1] / test[column2]\n",
    "            test_log[f'{column2}' + '/' + f'{column1}'] = test[column2] / test[column1]\n",
    "            test_log[f'{column1}' + '*' + f'{column2}'] = test[column1] * test[column2]\n",
    "\n",
    "\n",
    "            \n",
    "columns = train_new.drop(['target'], axis = 1).columns\n",
    "train_log = train_new.copy()\n",
    "for column1 in columns:\n",
    "    for column2 in columns:\n",
    "        if column1 != column2:\n",
    "            train_log[f'{column1}' + '/' + f'{column2}'] = train[column1] / train[column2]\n",
    "            train_log[f'{column2}' + '/' + f'{column1}'] = train[column2] / train[column1]\n",
    "            train_log[f'{column1}' + '*' + f'{column2}'] = train[column1] * train[column2]"
   ]
  },
  {
   "cell_type": "code",
   "execution_count": 6,
   "metadata": {},
   "outputs": [
    {
     "data": {
      "text/plain": [
       "(2000, 1128)"
      ]
     },
     "execution_count": 6,
     "metadata": {},
     "output_type": "execute_result"
    }
   ],
   "source": [
    "test_log.shape"
   ]
  },
  {
   "cell_type": "code",
   "execution_count": 7,
   "metadata": {},
   "outputs": [],
   "source": [
    "train_log['max'] = train_new.drop(['target'], axis = 1).max(axis = 1)\n",
    "test_log['max'] = test_new.max(axis = 1)\n",
    "\n",
    "train_log['mean'] = train_new.drop(['target'], axis = 1).mean(axis = 1)\n",
    "test_log['mean'] = test_new.mean(axis = 1)\n",
    "\n",
    "\n",
    "train_log['min'] = train_new.drop(['target'], axis = 1).min(axis = 1)\n",
    "test_log['min'] = test_new.min(axis = 1)\n",
    "\n",
    "\n",
    "train_log['std'] = train_new.drop(['target'], axis = 1).std(axis = 1)\n",
    "test_log['std'] = test_new.std(axis = 1)"
   ]
  },
  {
   "cell_type": "markdown",
   "metadata": {},
   "source": [
    "# Model"
   ]
  },
  {
   "cell_type": "code",
   "execution_count": 9,
   "metadata": {},
   "outputs": [],
   "source": [
    "from sklearn.model_selection import train_test_split\n",
    "\n",
    "X_tr_, X_val_, y_tr_, y_val_ = train_test_split(train_new.drop(['target'], axis = 1), train_new.target, test_size = 0.2, random_state=42)\n",
    "X_tr_log_, X_val_log_, _, _ = train_test_split(train_log.drop(['target'], axis = 1), train_log.target, test_size = 0.2, random_state=42)"
   ]
  },
  {
   "cell_type": "code",
   "execution_count": 10,
   "metadata": {},
   "outputs": [],
   "source": [
    "from sklearn.mixture import GaussianMixture\n",
    "gm = GaussianMixture(n_components=5, random_state=42).fit(X_tr_)\n",
    "\n",
    "X_tr_log_['EM'] = gm.predict(X_tr_)\n",
    "X_val_log_['EM'] = gm.predict(X_val_)\n",
    "\n",
    "test_log['EM'] = gm.predict(test_new)"
   ]
  },
  {
   "cell_type": "code",
   "execution_count": 11,
   "metadata": {},
   "outputs": [],
   "source": [
    "np.random.seed(42)"
   ]
  },
  {
   "cell_type": "code",
   "execution_count": 12,
   "metadata": {},
   "outputs": [],
   "source": [
    "params_ = {'objective': 'binary', \n",
    "              'metric': 'binary_logloss', \n",
    "              'boosting_type': 'dart',\n",
    "              'eta': 0.5, \n",
    "              'max_depth': 10,\n",
    "              'verbosity': -1, \n",
    "              'num_boost_round':400,\n",
    "              'random_state': 42,\n",
    "}"
   ]
  },
  {
   "cell_type": "code",
   "execution_count": 13,
   "metadata": {},
   "outputs": [],
   "source": [
    "params = {'alpha_lgb': 0.4,\n",
    " 'alpha_svc': 0.9924084605043365,\n",
    " 'alpha_log': 0.4556810375645594,\n",
    " 'alpha_knn': 0.9000794018537238,\n",
    " 'alpha_gauss': 0.038477804016366315,\n",
    " 'alpha_reg': 0.0061570744023891535,\n",
    " 'alpha_knn_2': 0.3,\n",
    " 'alpha_ber': 0.00034246322816774283}"
   ]
  },
  {
   "cell_type": "code",
   "execution_count": 14,
   "metadata": {},
   "outputs": [],
   "source": [
    "alpha_lgb = params['alpha_lgb']\n",
    "alpha_svc = params['alpha_svc']\n",
    "alpha_log = params['alpha_log']\n",
    "alpha_knn = params['alpha_knn']\n",
    "alpha_gauss = params['alpha_gauss']\n",
    "alpha_reg = params['alpha_reg']\n",
    "alpha_knn_2 = params['alpha_knn_2']\n",
    "alpha_ber = params['alpha_ber']"
   ]
  },
  {
   "cell_type": "code",
   "execution_count": 15,
   "metadata": {},
   "outputs": [
    {
     "data": {
      "text/plain": [
       "0.8471386657380389"
      ]
     },
     "execution_count": 15,
     "metadata": {},
     "output_type": "execute_result"
    }
   ],
   "source": [
    "dataset = lgb.Dataset(X_tr_log_, y_tr_)\n",
    "lgb_model = lgb.train(params_, dataset)\n",
    "y_lgb = lgb_model.predict(X_val_log_)\n",
    "\n",
    "\n",
    "SVC_model = SVC(C = 0.7, kernel='rbf', random_state = 42, probability = True).fit(X_tr_, y_tr_)\n",
    "y_SVC = SVC_model.predict_proba(X_val_)[:, 1]\n",
    "\n",
    "\n",
    "Log_model = LogisticRegression(penalty = 'l1', random_state = 42, solver = 'liblinear').fit(X_tr_log_, y_tr_)\n",
    "y_log = Log_model.predict_proba(X_val_log_)[:, 1]\n",
    "\n",
    "\n",
    "knn_model = KNeighborsClassifier(n_neighbors=60, metric = 'cosine',  weights = 'distance').fit(X_tr_, y_tr_)\n",
    "y_knn = knn_model.predict_proba(X_val_)[:, 1]\n",
    "\n",
    "\n",
    "knn_model_euc = KNeighborsClassifier(n_neighbors=35, metric = 'euclidean', weights = 'distance').fit(X_tr_, y_tr_)\n",
    "y_knn_euc = knn_model.predict_proba(X_val_)[:, 1]\n",
    "\n",
    "\n",
    "gauss_model = GaussianNB().fit(X_tr_, y_tr_)\n",
    "y_gauss = gauss_model.predict_proba(X_val_)[:, 1]\n",
    "\n",
    "\n",
    "linear_model = LinearRegression().fit(X_tr_log_, y_tr_)\n",
    "y_reg = linear_model.predict(X_val_log_)\n",
    "\n",
    "\n",
    "bernulli_model = BernoulliNB().fit(X_tr_log_, y_tr_)\n",
    "y_ber = bernulli_model.predict_proba(X_val_log_)[:, 1]\n",
    "\n",
    "\n",
    "\n",
    "y_final = y_knn_euc * alpha_knn_2 + alpha_lgb * y_lgb + alpha_svc * y_SVC + alpha_log * y_log + alpha_knn * y_knn + alpha_gauss * y_gauss + y_reg  * alpha_reg + alpha_ber * y_ber\n",
    "\n",
    "\n",
    "roc_auc_score(y_val_, y_final)"
   ]
  },
  {
   "cell_type": "code",
   "execution_count": 80,
   "metadata": {},
   "outputs": [],
   "source": [
    "train_main_ = pd.concat((X_tr_, X_val_))\n",
    "train_main_log_ = pd.concat((X_tr_log_, X_val_log_))\n",
    "y_tr_main_ = pd.concat((y_tr_, y_val_))"
   ]
  },
  {
   "cell_type": "code",
   "execution_count": 78,
   "metadata": {},
   "outputs": [
    {
     "data": {
      "text/plain": [
       "(10000, 1133)"
      ]
     },
     "execution_count": 78,
     "metadata": {},
     "output_type": "execute_result"
    }
   ],
   "source": [
    "train_main_log_.shape"
   ]
  },
  {
   "cell_type": "code",
   "execution_count": 84,
   "metadata": {},
   "outputs": [
    {
     "data": {
      "text/plain": [
       "0.5093062910527517"
      ]
     },
     "execution_count": 84,
     "metadata": {},
     "output_type": "execute_result"
    }
   ],
   "source": [
    "dataset = lgb.Dataset(train_main_log_, y_tr_main_)\n",
    "lgb_model = lgb.train(params_, dataset)\n",
    "y_lgb = lgb_model.predict(test_log)\n",
    "\n",
    "\n",
    "SVC_model = SVC(C = 0.7, kernel='rbf', random_state = 42, probability = True).fit(train_main_, y_tr_main_)\n",
    "y_SVC = SVC_model.predict_proba(test_new)[:, 1]\n",
    "\n",
    "\n",
    "Log_model = LogisticRegression(penalty = 'l1', random_state = 42, solver = 'liblinear').fit(train_main_log_, y_tr_main_)\n",
    "y_log = Log_model.predict_proba(test_log)[:, 1]\n",
    "\n",
    "\n",
    "knn_model = KNeighborsClassifier(n_neighbors=60, metric = 'cosine',  weights = 'distance').fit(train_main_, y_tr_main_)\n",
    "y_knn = knn_model.predict_proba(test_new)[:, 1]\n",
    "\n",
    "\n",
    "knn_model_euc = KNeighborsClassifier(n_neighbors=35, metric = 'euclidean', weights = 'distance').fit(train_main_, y_tr_main_)\n",
    "y_knn_euc = knn_model.predict_proba(test_new)[:, 1]\n",
    "\n",
    "\n",
    "gauss_model = GaussianNB().fit(train_main_, y_tr_main_)\n",
    "y_gauss = gauss_model.predict_proba(test_new)[:, 1]\n",
    "\n",
    "\n",
    "linear_model = LinearRegression().fit(train_main_log_, y_tr_main_)\n",
    "y_reg = linear_model.predict(test_log)\n",
    "\n",
    "\n",
    "bernulli_model = BernoulliNB().fit(train_main_log_, y_tr_main_)\n",
    "y_ber = bernulli_model.predict_proba(test_log)[:, 1]\n",
    "\n",
    "\n",
    "\n",
    "y_final = y_knn_euc * alpha_knn_2 + alpha_lgb * y_lgb + alpha_svc * y_SVC + alpha_log * y_log + alpha_knn * y_knn + alpha_gauss * y_gauss + y_reg  * alpha_reg + alpha_ber * y_ber\n",
    "\n",
    "\n",
    "roc_auc_score(y_val_, y_final)"
   ]
  },
  {
   "cell_type": "markdown",
   "metadata": {},
   "source": [
    "?????????????????"
   ]
  },
  {
   "cell_type": "code",
   "execution_count": 85,
   "metadata": {},
   "outputs": [],
   "source": [
    "df_subm = pd.DataFrame({'y': y_final})"
   ]
  },
  {
   "cell_type": "code",
   "execution_count": 86,
   "metadata": {},
   "outputs": [],
   "source": [
    "name = 'ensembley_0.85_full_dataset'\n",
    "df_subm.to_csv(f'{name}.csv', index=False, header=False)"
   ]
  },
  {
   "cell_type": "code",
   "execution_count": null,
   "metadata": {},
   "outputs": [],
   "source": []
  }
 ],
 "metadata": {
  "kernelspec": {
   "display_name": ".mlenv",
   "language": "python",
   "name": "python3"
  },
  "language_info": {
   "codemirror_mode": {
    "name": "ipython",
    "version": 3
   },
   "file_extension": ".py",
   "mimetype": "text/x-python",
   "name": "python",
   "nbconvert_exporter": "python",
   "pygments_lexer": "ipython3",
   "version": "3.9.18"
  }
 },
 "nbformat": 4,
 "nbformat_minor": 2
}
