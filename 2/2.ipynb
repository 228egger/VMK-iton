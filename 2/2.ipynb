{
 "cells": [
  {
   "cell_type": "code",
   "execution_count": 1,
   "metadata": {},
   "outputs": [],
   "source": [
    "import lightgbm as lgb\n",
    "import matplotlib.pyplot as plt\n",
    "import polars as pl\n",
    "import seaborn as sns\n",
    "import numpy as np\n",
    "import warnings\n",
    "import mlflow\n",
    "import optuna\n",
    "import pandas as pd\n",
    "\n",
    "from pathlib import Path\n",
    "from scipy.stats import kstest\n",
    "from sklearn.model_selection import train_test_split\n",
    "from sklearn.metrics import mean_squared_error, f1_score\n",
    "import warnings\n",
    "\n",
    "warnings.filterwarnings(\"ignore\")\n",
    "\n",
    "\n",
    "ROOT = Path(\"./datasets/2\")\n",
    "TRAIN_PATH = ROOT / \"train.csv\"\n",
    "TEST_PATH = ROOT / \"test.csv\"\n",
    "\n",
    "warnings.simplefilter(action=\"ignore\", category=FutureWarning)\n",
    "warnings.simplefilter(action=\"ignore\", category=UserWarning)\n",
    "\n",
    "plt.style.use(\"dark_background\")"
   ]
  },
  {
   "cell_type": "code",
   "execution_count": 2,
   "metadata": {},
   "outputs": [],
   "source": [
    "tr = pd.read_csv('train.csv').drop([f\"{i}\" for i in (5, 13, 18, 28, 30)], axis = 1)\n",
    "\n",
    "tst = pd.read_csv('test.csv').drop([f\"{i}\" for i in (5, 13, 18, 28, 30)], axis = 1)\n"
   ]
  },
  {
   "cell_type": "code",
   "execution_count": 3,
   "metadata": {},
   "outputs": [
    {
     "data": {
      "text/html": [
       "<div>\n",
       "<style scoped>\n",
       "    .dataframe tbody tr th:only-of-type {\n",
       "        vertical-align: middle;\n",
       "    }\n",
       "\n",
       "    .dataframe tbody tr th {\n",
       "        vertical-align: top;\n",
       "    }\n",
       "\n",
       "    .dataframe thead th {\n",
       "        text-align: right;\n",
       "    }\n",
       "</style>\n",
       "<table border=\"1\" class=\"dataframe\">\n",
       "  <thead>\n",
       "    <tr style=\"text-align: right;\">\n",
       "      <th></th>\n",
       "      <th>0</th>\n",
       "      <th>1</th>\n",
       "      <th>2</th>\n",
       "      <th>3</th>\n",
       "      <th>4</th>\n",
       "      <th>6</th>\n",
       "      <th>7</th>\n",
       "      <th>8</th>\n",
       "      <th>9</th>\n",
       "      <th>10</th>\n",
       "      <th>...</th>\n",
       "      <th>20</th>\n",
       "      <th>21</th>\n",
       "      <th>22</th>\n",
       "      <th>23</th>\n",
       "      <th>24</th>\n",
       "      <th>25</th>\n",
       "      <th>26</th>\n",
       "      <th>27</th>\n",
       "      <th>29</th>\n",
       "      <th>target</th>\n",
       "    </tr>\n",
       "  </thead>\n",
       "  <tbody>\n",
       "    <tr>\n",
       "      <th>0</th>\n",
       "      <td>-6.130724</td>\n",
       "      <td>7.429628</td>\n",
       "      <td>3.651437</td>\n",
       "      <td>-1.950971</td>\n",
       "      <td>-3.384415</td>\n",
       "      <td>-3.077774</td>\n",
       "      <td>-2.619091</td>\n",
       "      <td>5.128201</td>\n",
       "      <td>1.228476</td>\n",
       "      <td>-2.030674</td>\n",
       "      <td>...</td>\n",
       "      <td>0.895130</td>\n",
       "      <td>-0.565067</td>\n",
       "      <td>0.392978</td>\n",
       "      <td>4.920467</td>\n",
       "      <td>16.610460</td>\n",
       "      <td>-2.430804</td>\n",
       "      <td>-1.405573</td>\n",
       "      <td>18.610209</td>\n",
       "      <td>6.027816</td>\n",
       "      <td>0</td>\n",
       "    </tr>\n",
       "    <tr>\n",
       "      <th>1</th>\n",
       "      <td>5.161836</td>\n",
       "      <td>-6.514011</td>\n",
       "      <td>-7.474612</td>\n",
       "      <td>-4.544336</td>\n",
       "      <td>-13.081404</td>\n",
       "      <td>-1.094672</td>\n",
       "      <td>-1.253545</td>\n",
       "      <td>-2.955342</td>\n",
       "      <td>-10.958200</td>\n",
       "      <td>0.201764</td>\n",
       "      <td>...</td>\n",
       "      <td>-3.913835</td>\n",
       "      <td>3.433538</td>\n",
       "      <td>-4.840233</td>\n",
       "      <td>-0.514308</td>\n",
       "      <td>4.613289</td>\n",
       "      <td>2.391302</td>\n",
       "      <td>-4.795664</td>\n",
       "      <td>4.208278</td>\n",
       "      <td>-8.510424</td>\n",
       "      <td>0</td>\n",
       "    </tr>\n",
       "    <tr>\n",
       "      <th>2</th>\n",
       "      <td>-2.971550</td>\n",
       "      <td>-21.508184</td>\n",
       "      <td>-1.125457</td>\n",
       "      <td>1.524129</td>\n",
       "      <td>3.027444</td>\n",
       "      <td>1.551050</td>\n",
       "      <td>1.512075</td>\n",
       "      <td>-1.955564</td>\n",
       "      <td>3.683893</td>\n",
       "      <td>-3.281620</td>\n",
       "      <td>...</td>\n",
       "      <td>1.806003</td>\n",
       "      <td>-1.659274</td>\n",
       "      <td>-0.385303</td>\n",
       "      <td>2.647917</td>\n",
       "      <td>-2.200556</td>\n",
       "      <td>1.058671</td>\n",
       "      <td>1.076312</td>\n",
       "      <td>-7.802389</td>\n",
       "      <td>0.636639</td>\n",
       "      <td>0</td>\n",
       "    </tr>\n",
       "    <tr>\n",
       "      <th>3</th>\n",
       "      <td>6.724419</td>\n",
       "      <td>0.566489</td>\n",
       "      <td>0.509764</td>\n",
       "      <td>-4.524162</td>\n",
       "      <td>10.367236</td>\n",
       "      <td>0.741790</td>\n",
       "      <td>-2.077787</td>\n",
       "      <td>-2.912744</td>\n",
       "      <td>-4.040637</td>\n",
       "      <td>0.966362</td>\n",
       "      <td>...</td>\n",
       "      <td>-0.206236</td>\n",
       "      <td>3.270839</td>\n",
       "      <td>4.731346</td>\n",
       "      <td>15.378418</td>\n",
       "      <td>-14.031666</td>\n",
       "      <td>2.659410</td>\n",
       "      <td>5.123620</td>\n",
       "      <td>-8.500321</td>\n",
       "      <td>-14.798490</td>\n",
       "      <td>1</td>\n",
       "    </tr>\n",
       "    <tr>\n",
       "      <th>4</th>\n",
       "      <td>-2.213659</td>\n",
       "      <td>-4.678213</td>\n",
       "      <td>-0.135845</td>\n",
       "      <td>2.375933</td>\n",
       "      <td>0.916649</td>\n",
       "      <td>-0.353265</td>\n",
       "      <td>-0.220609</td>\n",
       "      <td>-3.416823</td>\n",
       "      <td>-5.964181</td>\n",
       "      <td>0.166999</td>\n",
       "      <td>...</td>\n",
       "      <td>-0.194170</td>\n",
       "      <td>-10.292197</td>\n",
       "      <td>1.598330</td>\n",
       "      <td>-4.996614</td>\n",
       "      <td>4.504269</td>\n",
       "      <td>1.918961</td>\n",
       "      <td>-2.076223</td>\n",
       "      <td>0.154039</td>\n",
       "      <td>10.803205</td>\n",
       "      <td>0</td>\n",
       "    </tr>\n",
       "  </tbody>\n",
       "</table>\n",
       "<p>5 rows × 27 columns</p>\n",
       "</div>"
      ],
      "text/plain": [
       "          0          1         2         3          4         6         7  \\\n",
       "0 -6.130724   7.429628  3.651437 -1.950971  -3.384415 -3.077774 -2.619091   \n",
       "1  5.161836  -6.514011 -7.474612 -4.544336 -13.081404 -1.094672 -1.253545   \n",
       "2 -2.971550 -21.508184 -1.125457  1.524129   3.027444  1.551050  1.512075   \n",
       "3  6.724419   0.566489  0.509764 -4.524162  10.367236  0.741790 -2.077787   \n",
       "4 -2.213659  -4.678213 -0.135845  2.375933   0.916649 -0.353265 -0.220609   \n",
       "\n",
       "          8          9        10  ...        20         21        22  \\\n",
       "0  5.128201   1.228476 -2.030674  ...  0.895130  -0.565067  0.392978   \n",
       "1 -2.955342 -10.958200  0.201764  ... -3.913835   3.433538 -4.840233   \n",
       "2 -1.955564   3.683893 -3.281620  ...  1.806003  -1.659274 -0.385303   \n",
       "3 -2.912744  -4.040637  0.966362  ... -0.206236   3.270839  4.731346   \n",
       "4 -3.416823  -5.964181  0.166999  ... -0.194170 -10.292197  1.598330   \n",
       "\n",
       "          23         24        25        26         27         29  target  \n",
       "0   4.920467  16.610460 -2.430804 -1.405573  18.610209   6.027816       0  \n",
       "1  -0.514308   4.613289  2.391302 -4.795664   4.208278  -8.510424       0  \n",
       "2   2.647917  -2.200556  1.058671  1.076312  -7.802389   0.636639       0  \n",
       "3  15.378418 -14.031666  2.659410  5.123620  -8.500321 -14.798490       1  \n",
       "4  -4.996614   4.504269  1.918961 -2.076223   0.154039  10.803205       0  \n",
       "\n",
       "[5 rows x 27 columns]"
      ]
     },
     "execution_count": 3,
     "metadata": {},
     "output_type": "execute_result"
    }
   ],
   "source": [
    "tr.head()"
   ]
  },
  {
   "cell_type": "code",
   "execution_count": 4,
   "metadata": {},
   "outputs": [
    {
     "data": {
      "text/plain": [
       "<Axes: >"
      ]
     },
     "execution_count": 4,
     "metadata": {},
     "output_type": "execute_result"
    },
    {
     "data": {
      "image/png": "[encoded data removed]",
      "text/plain": [
       "<Figure size 640x480 with 2 Axes>"
      ]
     },
     "metadata": {},
     "output_type": "display_data"
    }
   ],
   "source": [
    "sns.heatmap(tr.corr())"
   ]
  },
  {
   "cell_type": "code",
   "execution_count": 5,
   "metadata": {},
   "outputs": [],
   "source": [
    "for column in set(tr.columns) & set(tst.columns):\n",
    "    pvalue = kstest(tr[column], tst[column]).pvalue\n",
    "    if pvalue <= 0.05:\n",
    "        print(column, pvalue)"
   ]
  },
  {
   "cell_type": "code",
   "execution_count": 6,
   "metadata": {},
   "outputs": [],
   "source": [
    "X, y = (\n",
    "    tr.drop([\"target\"], axis = 1),\n",
    "    tr[\"target\"],\n",
    ")"
   ]
  },
  {
   "cell_type": "code",
   "execution_count": 32,
   "metadata": {},
   "outputs": [],
   "source": [
    "columns = X.columns.to_list()\n",
    "columns.append('EM')\n"
   ]
  },
  {
   "cell_type": "code",
   "execution_count": 7,
   "metadata": {},
   "outputs": [],
   "source": [
    "columns = X.columns\n",
    "X_new = X.copy()\n",
    "for column1 in columns:\n",
    "    for column2 in columns:\n",
    "        if column1 != column2:\n",
    "            X_new[f'{column1}' + '*' + f'{column2}'] = X[column1] * X[column2]\n",
    "\n",
    "\n",
    "\n",
    "columns = tst.columns\n",
    "tst_new = tst.copy()\n",
    "for column1 in columns:\n",
    "    for column2 in columns:\n",
    "        if column1 != column2:\n",
    "            tst_new[f'{column1}' + '*' + f'{column2}'] = tst[column1] * tst[column2]"
   ]
  },
  {
   "cell_type": "code",
   "execution_count": 8,
   "metadata": {},
   "outputs": [],
   "source": [
    "X_tr, X_val, y_tr, y_val = train_test_split(X_new, y, test_size=0.2, random_state=42)\n",
    "X_tr_, X_val_, _, _ = train_test_split(X, y, test_size=0.2, random_state=42)\n"
   ]
  },
  {
   "cell_type": "code",
   "execution_count": 9,
   "metadata": {},
   "outputs": [],
   "source": [
    "from sklearn.mixture import GaussianMixture\n",
    "gm = GaussianMixture(n_components=4, random_state=42).fit(X_tr_)\n",
    "\n",
    "X_tr['EM'] = gm.predict(X_tr_)\n",
    "X_val['EM'] = gm.predict(X_val_)\n",
    "\n",
    "tst_new['EM'] = gm.predict(tst)"
   ]
  },
  {
   "cell_type": "code",
   "execution_count": 10,
   "metadata": {},
   "outputs": [
    {
     "data": {
      "text/plain": [
       "<Axes: xlabel='EM', ylabel='Count'>"
      ]
     },
     "execution_count": 10,
     "metadata": {},
     "output_type": "execute_result"
    },
    {
     "data": {
      "image/png": "[encoded data removed]",
      "text/plain": [
       "<Figure size 640x480 with 1 Axes>"
      ]
     },
     "metadata": {},
     "output_type": "display_data"
    }
   ],
   "source": [
    "import seaborn as sns\n",
    "\n",
    "\n",
    "sns.histplot(data = X_tr, x = 'EM', hue = y_tr)"
   ]
  },
  {
   "cell_type": "code",
   "execution_count": 16,
   "metadata": {},
   "outputs": [],
   "source": [
    "params = {\n",
    "    \"boosting_type\": \"dart\",\n",
    "    \"objective\": \"binary\",\n",
    "    \"metric\": [\"auc\", \"\"],\n",
    "    \"learning_rate\": 0.12844630277246294,\n",
    "    #\n",
    "    \"verbosity\": -1,\n",
    "    \"random_state\": 42,\n",
    "    'max_depth': 12,\n",
    "}\n",
    "\n",
    "with mlflow.start_run(run_name=\"Baseline\"):\n",
    "    model = lgb.train(\n",
    "        params,\n",
    "        train_set=lgb.Dataset(X_tr, y_tr, free_raw_data=True),\n",
    "        num_boost_round=400,\n",
    "        valid_sets=[lgb.Dataset(X_val, y_val, free_raw_data=True)],\n",
    "        valid_names=[\"Validation\"],\n",
    "    )"
   ]
  },
  {
   "cell_type": "code",
   "execution_count": 18,
   "metadata": {},
   "outputs": [
    {
     "name": "stdout",
     "output_type": "stream",
     "text": [
      "(0.9550706033376123, 0.13)\n"
     ]
    }
   ],
   "source": [
    "y_val_probas = model.predict(X_val)\n",
    "best = (0, 0)\n",
    "for threshold in np.linspace(0, 1, 101):\n",
    "    best = max(best, (f1_score(y_val, (y_val_probas > threshold)), threshold))\n",
    "print(best)"
   ]
  },
  {
   "cell_type": "code",
   "execution_count": null,
   "metadata": {},
   "outputs": [],
   "source": [
    "X_tr"
   ]
  },
  {
   "cell_type": "code",
   "execution_count": 18,
   "metadata": {},
   "outputs": [],
   "source": [
    "pl.DataFrame(model.predict(tst_new) > best[1], schema={\"target\": pl.Int64}).write_csv(\n",
    "    \"./baseline_submission_2.csv\"\n",
    ")"
   ]
  },
  {
   "cell_type": "markdown",
   "metadata": {},
   "source": [
    "# Optuna\n"
   ]
  },
  {
   "cell_type": "code",
   "execution_count": 28,
   "metadata": {},
   "outputs": [],
   "source": [
    "import optuna\n",
    "from sklearn.metrics import roc_auc_score\n",
    "import lightgbm as lgb\n",
    "from sklearn.svm import SVC\n",
    "from sklearn.linear_model import LogisticRegression, LinearRegression\n",
    "from sklearn.neighbors import KNeighborsClassifier\n",
    "from sklearn.naive_bayes import GaussianNB\n",
    "from sklearn.mixture import GaussianMixture\n",
    "from sklearn.naive_bayes import BernoulliNB\n",
    "from catboost import Pool, CatBoostClassifier\n",
    "\n",
    "\n",
    "def objective(trial, X_tr, y_tr, X_val, y_val, columns):\n",
    "    '''\n",
    "    function of objective loss(returns objective loss for log regrression) with suggested parameters\n",
    "    '''\n",
    "    params = {'objective': 'binary', \n",
    "              'metric': 'binary_logloss', \n",
    "              'eta': 0.12, \n",
    "              'max_depth': 8,\n",
    "              'verbosity': -1, \n",
    "              'num_boost_round':100,\n",
    "              'random_state': 42,\n",
    "              }\n",
    "    \n",
    "    \n",
    "    \n",
    "    alpha_lgb = trial.suggest_float('alpha_lgb', 0, 1)\n",
    "    alpha_svc = trial.suggest_float('alpha_svc', 0, 1)\n",
    "    alpha_log = trial.suggest_float('alpha_log', 0, 1)\n",
    "    alpha_gauss = trial.suggest_float('alpha_gauss', 0, 1)\n",
    "    alpha_ber = trial.suggest_float('alpha_ber', 0, 1)\n",
    "    \n",
    "    \n",
    "    dataset = lgb.Dataset(X_tr, y_tr)\n",
    "    lgb_model = lgb.train(params, dataset)\n",
    "    y_lgb = lgb_model.predict(X_val)\n",
    "    \n",
    "    \n",
    "    SVC_model = SVC(C = 0.7, kernel='rbf', random_state = 42, probability = True).fit(X_tr[columns], y_tr)\n",
    "    y_SVC = SVC_model.predict_proba(X_val[columns])[:, 1]\n",
    "    \n",
    "    \n",
    "    Log_model = LogisticRegression(penalty = 'l1', random_state = 42, solver = 'liblinear').fit(X_tr, y_tr)\n",
    "    y_log = Log_model.predict_proba(X_val)[:, 1]\n",
    "\n",
    "    \n",
    "    \n",
    "    gauss_model = GaussianNB().fit(X_tr, y_tr)\n",
    "    y_gauss = gauss_model.predict_proba(X_val)[:, 1]\n",
    "\n",
    "    \n",
    "    bernulli_model = BernoulliNB().fit(X_tr, y_tr)\n",
    "    y_ber = bernulli_model.predict_proba(X_val)[:, 1]\n",
    "    \n",
    "    \n",
    "    \n",
    "    y_final = alpha_lgb * y_lgb + alpha_svc * y_SVC + alpha_log * y_log + alpha_gauss * y_gauss + alpha_ber * y_ber\n",
    "    score = roc_auc_score(y_val, y_final)\n",
    "    \n",
    "\n",
    "        \n",
    "    \n",
    "\n",
    "\n",
    "\n",
    "    return score"
   ]
  },
  {
   "cell_type": "code",
   "execution_count": 29,
   "metadata": {},
   "outputs": [],
   "source": [
    "from functools import partial\n",
    "\n",
    "def start_optimization(\n",
    "    objective_func, # принимает trial, X_tr, y_tr, X_val, y_val, **other_objective_kwargs\n",
    "    n_trials,\n",
    "    n_jobs,\n",
    "    X_tr, \n",
    "    y_tr, \n",
    "    X_val, \n",
    "    y_val,\n",
    "    columns,\n",
    "    study_direction=None,\n",
    "    sampler=None,\n",
    "    features=None,\n",
    "    **other_objective_kwargs\n",
    "):\n",
    "\n",
    "    obj_func = partial(objective_func, X_tr=X_tr, \n",
    "                       X_val=X_val, \n",
    "                       y_tr=y_tr, \n",
    "                       y_val=y_val, columns = columns)\n",
    "    study = optuna.create_study(sampler=sampler, direction='maximize')\n",
    "    study.optimize(obj_func, n_trials=n_trials, n_jobs= n_jobs)\n",
    "    return study"
   ]
  },
  {
   "cell_type": "code",
   "execution_count": 33,
   "metadata": {},
   "outputs": [
    {
     "name": "stderr",
     "output_type": "stream",
     "text": [
      "[I 2024-04-18 19:06:08,810] A new study created in memory with name: no-name-2fdd8d5b-537e-48f5-8614-eefb05097664\n",
      "[I 2024-04-18 19:06:57,593] Trial 4 finished with value: 0.9866762638406054 and parameters: {'alpha_lgb': 0.749990207090623, 'alpha_svc': 0.16952496735322853, 'alpha_log': 0.46286265477341104, 'alpha_gauss': 0.06465906236988705, 'alpha_ber': 0.043134499994185505}. Best is trial 4 with value: 0.9866762638406054.\n",
      "[I 2024-04-18 19:06:58,220] Trial 3 finished with value: 0.9835903640289753 and parameters: {'alpha_lgb': 0.9723284972423962, 'alpha_svc': 0.031024163177463593, 'alpha_log': 0.22337673323577767, 'alpha_gauss': 0.17184753100191097, 'alpha_ber': 0.5158683743510902}. Best is trial 4 with value: 0.9866762638406054.\n",
      "[I 2024-04-18 19:06:58,273] Trial 5 finished with value: 0.9550770581598951 and parameters: {'alpha_lgb': 0.1749469308166427, 'alpha_svc': 0.24028624990854508, 'alpha_log': 0.5196915216256868, 'alpha_gauss': 0.9230309412378332, 'alpha_ber': 0.43833877650290654}. Best is trial 4 with value: 0.9866762638406054.\n",
      "[I 2024-04-18 19:06:58,317] Trial 6 finished with value: 0.9814565242915703 and parameters: {'alpha_lgb': 0.9485763021574689, 'alpha_svc': 0.2431195731408533, 'alpha_log': 0.9903077469302268, 'alpha_gauss': 0.9379214770830336, 'alpha_ber': 0.15640922897787102}. Best is trial 4 with value: 0.9866762638406054.\n",
      "[I 2024-04-18 19:06:58,338] Trial 0 finished with value: 0.9645185332659487 and parameters: {'alpha_lgb': 0.02348733806182679, 'alpha_svc': 0.9130372029722997, 'alpha_log': 0.6764850725164481, 'alpha_gauss': 0.6711114683967948, 'alpha_ber': 0.8583653712734196}. Best is trial 4 with value: 0.9866762638406054.\n",
      "[I 2024-04-18 19:06:58,340] Trial 2 finished with value: 0.9635358439131967 and parameters: {'alpha_lgb': 0.5201428511176744, 'alpha_svc': 0.24842607505800085, 'alpha_log': 0.03962846347464899, 'alpha_gauss': 0.7615551498450881, 'alpha_ber': 0.8736749150143678}. Best is trial 4 with value: 0.9866762638406054.\n",
      "[I 2024-04-18 19:06:58,415] Trial 7 finished with value: 0.9810685534302239 and parameters: {'alpha_lgb': 0.8605744822502006, 'alpha_svc': 0.0011792262509701112, 'alpha_log': 0.19226899578569712, 'alpha_gauss': 0.6851391958612459, 'alpha_ber': 0.2537361278500708}. Best is trial 4 with value: 0.9866762638406054.\n",
      "[I 2024-04-18 19:07:00,190] Trial 1 finished with value: 0.981709215839421 and parameters: {'alpha_lgb': 0.9339092819222893, 'alpha_svc': 0.870200090510653, 'alpha_log': 0.48171212530304, 'alpha_gauss': 0.5619830314793631, 'alpha_ber': 0.7283283424040096}. Best is trial 4 with value: 0.9866762638406054.\n",
      "[I 2024-04-18 19:07:44,354] Trial 8 finished with value: 0.9702104741922805 and parameters: {'alpha_lgb': 0.15995262221423, 'alpha_svc': 0.7163177340164493, 'alpha_log': 0.943138997690783, 'alpha_gauss': 0.7341061159193328, 'alpha_ber': 0.7526942191113166}. Best is trial 4 with value: 0.9866762638406054.\n",
      "[I 2024-04-18 19:07:48,858] Trial 11 finished with value: 0.9352241807944213 and parameters: {'alpha_lgb': 0.02415949049960997, 'alpha_svc': 0.8587486406430812, 'alpha_log': 0.2151671275294874, 'alpha_gauss': 0.9855143163324876, 'alpha_ber': 0.1993855835606675}. Best is trial 4 with value: 0.9866762638406054.\n",
      "[I 2024-04-18 19:07:49,425] Trial 12 finished with value: 0.9850018632811104 and parameters: {'alpha_lgb': 0.9744748571758194, 'alpha_svc': 0.3909297872053683, 'alpha_log': 0.49719213354701786, 'alpha_gauss': 0.01717261533568404, 'alpha_ber': 0.6695100739471371}. Best is trial 4 with value: 0.9866762638406054.\n",
      "[I 2024-04-18 19:07:50,125] Trial 13 finished with value: 0.9804891495780818 and parameters: {'alpha_lgb': 0.9468560384237006, 'alpha_svc': 0.7508690506072051, 'alpha_log': 0.11269099289061801, 'alpha_gauss': 0.7517506951247552, 'alpha_ber': 0.030514151709674642}. Best is trial 4 with value: 0.9866762638406054.\n",
      "[I 2024-04-18 19:07:50,233] Trial 14 finished with value: 0.9750499001996008 and parameters: {'alpha_lgb': 0.5363468151100452, 'alpha_svc': 0.7922903584635098, 'alpha_log': 0.14972278033465714, 'alpha_gauss': 0.6320618388176746, 'alpha_ber': 0.5249658513149826}. Best is trial 4 with value: 0.9866762638406054.\n",
      "[I 2024-04-18 19:07:50,465] Trial 15 finished with value: 0.9699526777646752 and parameters: {'alpha_lgb': 0.32388567780613076, 'alpha_svc': 0.06021185941399454, 'alpha_log': 0.44807404640936, 'alpha_gauss': 0.6421145930564185, 'alpha_ber': 0.522058040676938}. Best is trial 4 with value: 0.9866762638406054.\n",
      "[I 2024-04-18 19:07:50,712] Trial 10 finished with value: 0.9820078513050625 and parameters: {'alpha_lgb': 0.7220320903164085, 'alpha_svc': 0.17175590761645743, 'alpha_log': 0.07145004244634057, 'alpha_gauss': 0.29692252784162, 'alpha_ber': 0.5883014581333817}. Best is trial 4 with value: 0.9866762638406054.\n",
      "[I 2024-04-18 19:07:50,870] Trial 9 finished with value: 0.9680051661383116 and parameters: {'alpha_lgb': 0.18786461536522436, 'alpha_svc': 0.864479632021516, 'alpha_log': 0.39974990555758594, 'alpha_gauss': 0.5954450573918934, 'alpha_ber': 0.2696535915703534}. Best is trial 4 with value: 0.9866762638406054.\n",
      "[I 2024-04-18 19:08:34,174] Trial 16 finished with value: 0.9422765721753423 and parameters: {'alpha_lgb': 0.17854960611247495, 'alpha_svc': 0.005559358408938175, 'alpha_log': 0.06340290464017384, 'alpha_gauss': 0.9156634203260304, 'alpha_ber': 0.7915759067587453}. Best is trial 4 with value: 0.9866762638406054.\n",
      "[I 2024-04-18 19:08:43,833] Trial 17 finished with value: 0.9866379772424461 and parameters: {'alpha_lgb': 0.6523538197139588, 'alpha_svc': 0.5495108100867852, 'alpha_log': 0.4516062487091182, 'alpha_gauss': 0.0007928941146519985, 'alpha_ber': 0.02227774110321923}. Best is trial 4 with value: 0.9866762638406054.\n",
      "[I 2024-04-18 19:08:47,461] Trial 18 finished with value: 0.9868702492712784 and parameters: {'alpha_lgb': 0.7483580621445117, 'alpha_svc': 0.4952372021910033, 'alpha_log': 0.5317809405095495, 'alpha_gauss': 0.0013528906645324384, 'alpha_ber': 0.03690720730174721}. Best is trial 18 with value: 0.9868702492712784.\n",
      "[I 2024-04-18 19:08:48,406] Trial 20 finished with value: 0.9812319095823697 and parameters: {'alpha_lgb': 0.754952651331551, 'alpha_svc': 0.4989174257177951, 'alpha_log': 0.39149236320693737, 'alpha_gauss': 0.04324918216967849, 'alpha_ber': 0.9896079364786124}. Best is trial 18 with value: 0.9868702492712784.\n",
      "[I 2024-04-18 19:08:48,719] Trial 21 finished with value: 0.9855072463768115 and parameters: {'alpha_lgb': 0.721834823177239, 'alpha_svc': 0.48671643953892396, 'alpha_log': 0.36377829104084614, 'alpha_gauss': 0.041586909753484565, 'alpha_ber': 0.35216293370137336}. Best is trial 18 with value: 0.9868702492712784.\n",
      "[I 2024-04-18 19:08:49,533] Trial 23 finished with value: 0.9857318610860121 and parameters: {'alpha_lgb': 0.7613386516480701, 'alpha_svc': 0.4291121053276301, 'alpha_log': 0.6362843157281892, 'alpha_gauss': 0.01548616127381235, 'alpha_ber': 0.3859269028685679}. Best is trial 18 with value: 0.9868702492712784.\n",
      "[I 2024-04-18 19:08:49,725] Trial 22 finished with value: 0.9870029761448968 and parameters: {'alpha_lgb': 0.7659549128900517, 'alpha_svc': 0.4191003508625777, 'alpha_log': 0.38378218864614627, 'alpha_gauss': 0.008251912475198554, 'alpha_ber': 0.01152695938769277}. Best is trial 22 with value: 0.9870029761448968.\n",
      "[I 2024-04-18 19:08:53,970] Trial 19 finished with value: 0.9849201852050375 and parameters: {'alpha_lgb': 0.7454449205474445, 'alpha_svc': 0.4610214731014909, 'alpha_log': 0.43101424266010424, 'alpha_gauss': 0.008408176768236686, 'alpha_ber': 0.5234304285051448}. Best is trial 22 with value: 0.9870029761448968.\n",
      "[I 2024-04-18 19:09:27,995] Trial 24 finished with value: 0.9822554379731585 and parameters: {'alpha_lgb': 0.7777541827311616, 'alpha_svc': 0.4484418037995449, 'alpha_log': 0.5929094431177033, 'alpha_gauss': 0.0027334441036456283, 'alpha_ber': 0.9843071126792329}. Best is trial 22 with value: 0.9870029761448968.\n",
      "[I 2024-04-18 19:09:33,552] Trial 25 finished with value: 0.9867962285148374 and parameters: {'alpha_lgb': 0.6789649837611962, 'alpha_svc': 0.4989880213897866, 'alpha_log': 0.36532199080336597, 'alpha_gauss': 0.004350932923433453, 'alpha_ber': 0.007337492258766454}. Best is trial 22 with value: 0.9870029761448968.\n",
      "[I 2024-04-18 19:09:36,912] Trial 26 finished with value: 0.9844403265081092 and parameters: {'alpha_lgb': 0.7909297703673517, 'alpha_svc': 0.4476758463594124, 'alpha_log': 0.6633320242043554, 'alpha_gauss': 0.2828910476900763, 'alpha_ber': 0.34337714284240034}. Best is trial 22 with value: 0.9870029761448968.\n",
      "[I 2024-04-18 19:09:38,375] Trial 27 finished with value: 0.983771587260262 and parameters: {'alpha_lgb': 0.8134198078135365, 'alpha_svc': 0.39666175043131746, 'alpha_log': 0.5938566138192831, 'alpha_gauss': 0.3333653880555233, 'alpha_ber': 0.00039126122149689413}. Best is trial 22 with value: 0.9870029761448968.\n",
      "[I 2024-04-18 19:09:38,874] Trial 28 finished with value: 0.9849201852050374 and parameters: {'alpha_lgb': 0.6450736962309735, 'alpha_svc': 0.6559020609249318, 'alpha_log': 0.6145849638377896, 'alpha_gauss': 0.1529166601486302, 'alpha_ber': 0.026553663338236878}. Best is trial 22 with value: 0.9870029761448968.\n",
      "[I 2024-04-18 19:09:39,247] Trial 29 finished with value: 0.983853265336335 and parameters: {'alpha_lgb': 0.6011724923043069, 'alpha_svc': 0.6154103408154117, 'alpha_log': 0.2861230566383922, 'alpha_gauss': 0.14782802315101168, 'alpha_ber': 0.0111056145102198}. Best is trial 22 with value: 0.9870029761448968.\n",
      "[I 2024-04-18 19:09:39,513] Trial 30 finished with value: 0.9842871801154724 and parameters: {'alpha_lgb': 0.6336629765114227, 'alpha_svc': 0.6101227791492082, 'alpha_log': 0.3006754338909599, 'alpha_gauss': 0.16974049577411238, 'alpha_ber': 0.08821707185503405}. Best is trial 22 with value: 0.9870029761448968.\n",
      "[I 2024-04-18 19:09:42,325] Trial 31 finished with value: 0.9853898341424568 and parameters: {'alpha_lgb': 0.8236445906844446, 'alpha_svc': 0.5926880065198639, 'alpha_log': 0.31671344081031716, 'alpha_gauss': 0.14471439814877937, 'alpha_ber': 0.0978525266428491}. Best is trial 22 with value: 0.9870029761448968.\n",
      "[I 2024-04-18 19:10:16,345] Trial 32 finished with value: 0.9850605693982878 and parameters: {'alpha_lgb': 0.6214446473433535, 'alpha_svc': 0.3437430739825734, 'alpha_log': 0.31044883353947156, 'alpha_gauss': 0.1496385181729643, 'alpha_ber': 0.1316867359968295}. Best is trial 22 with value: 0.9870029761448968.\n",
      "[I 2024-04-18 19:10:21,709] Trial 33 finished with value: 0.984348438672527 and parameters: {'alpha_lgb': 0.6317710148848015, 'alpha_svc': 0.6022608612229458, 'alpha_log': 0.3220969245693601, 'alpha_gauss': 0.17874404260569998, 'alpha_ber': 0.10666141166898116}. Best is trial 22 with value: 0.9870029761448968.\n",
      "[I 2024-04-18 19:10:24,299] Trial 34 finished with value: 0.9852060584712927 and parameters: {'alpha_lgb': 0.6018574171775689, 'alpha_svc': 0.6022428205703627, 'alpha_log': 0.31411753069049786, 'alpha_gauss': 0.13326709715099555, 'alpha_ber': 0.12460611954210038}. Best is trial 22 with value: 0.9870029761448968.\n",
      "[I 2024-04-18 19:10:26,141] Trial 35 finished with value: 0.9852468975093291 and parameters: {'alpha_lgb': 0.6269367335778658, 'alpha_svc': 0.5959287607788626, 'alpha_log': 0.29840922586733803, 'alpha_gauss': 0.13068410969558758, 'alpha_ber': 0.11190035324892987}. Best is trial 22 with value: 0.9870029761448968.\n",
      "[I 2024-04-18 19:10:27,102] Trial 36 finished with value: 0.9856399732504301 and parameters: {'alpha_lgb': 0.8818761427404076, 'alpha_svc': 0.5949773508607614, 'alpha_log': 0.2783679048644811, 'alpha_gauss': 0.1284142715537285, 'alpha_ber': 0.09207473837986213}. Best is trial 22 with value: 0.9870029761448968.\n",
      "[I 2024-04-18 19:10:27,702] Trial 38 finished with value: 0.9866175577234277 and parameters: {'alpha_lgb': 0.8758377960628515, 'alpha_svc': 0.3540031717900011, 'alpha_log': 0.5369149040601192, 'alpha_gauss': 0.0899413521630973, 'alpha_ber': 0.11014542577046219}. Best is trial 22 with value: 0.9870029761448968.\n",
      "[I 2024-04-18 19:10:27,825] Trial 37 finished with value: 0.9860126294725128 and parameters: {'alpha_lgb': 0.8670128407589572, 'alpha_svc': 0.5545615323165692, 'alpha_log': 0.3255421290225366, 'alpha_gauss': 0.10630089839067897, 'alpha_ber': 0.1039894883531159}. Best is trial 22 with value: 0.9870029761448968.\n",
      "[I 2024-04-18 19:10:29,538] Trial 39 finished with value: 0.9867400748375372 and parameters: {'alpha_lgb': 0.8582046491009657, 'alpha_svc': 0.33309818730033747, 'alpha_log': 0.5448677143513869, 'alpha_gauss': 0.07684031324962937, 'alpha_ber': 0.12717007552836346}. Best is trial 22 with value: 0.9870029761448968.\n",
      "[I 2024-04-18 19:10:58,196] Trial 40 finished with value: 0.9865690613657595 and parameters: {'alpha_lgb': 0.8786589214681244, 'alpha_svc': 0.5258461185441303, 'alpha_log': 0.5275269605958985, 'alpha_gauss': 0.08670692719194904, 'alpha_ber': 0.08677381250324796}. Best is trial 22 with value: 0.9870029761448968.\n",
      "[I 2024-04-18 19:11:05,807] Trial 41 finished with value: 0.9863316844571727 and parameters: {'alpha_lgb': 0.8659703411033585, 'alpha_svc': 0.5288013412765709, 'alpha_log': 0.5448327132739791, 'alpha_gauss': 0.08644179857766048, 'alpha_ber': 0.18856023434137265}. Best is trial 22 with value: 0.9870029761448968.\n",
      "[I 2024-04-18 19:11:09,162] Trial 42 finished with value: 0.9867068931191326 and parameters: {'alpha_lgb': 0.8853688228908412, 'alpha_svc': 0.3174831580566714, 'alpha_log': 0.5330267036243244, 'alpha_gauss': 0.07722116578816468, 'alpha_ber': 0.06428159280037751}. Best is trial 22 with value: 0.9870029761448968.\n",
      "[I 2024-04-18 19:11:11,355] Trial 43 finished with value: 0.9864746210903003 and parameters: {'alpha_lgb': 0.8746725079134755, 'alpha_svc': 0.3315262179378793, 'alpha_log': 0.5129453860403563, 'alpha_gauss': 0.08552544763103694, 'alpha_ber': 0.20551505770639836}. Best is trial 22 with value: 0.9870029761448968.\n",
      "[I 2024-04-18 19:11:12,835] Trial 44 finished with value: 0.9865996906442869 and parameters: {'alpha_lgb': 0.8933446367846529, 'alpha_svc': 0.33512888685790276, 'alpha_log': 0.5230421110531824, 'alpha_gauss': 0.06581711965440158, 'alpha_ber': 0.20386063968485757}. Best is trial 22 with value: 0.9870029761448968.\n",
      "[I 2024-04-18 19:11:12,887] Trial 45 finished with value: 0.986050916070672 and parameters: {'alpha_lgb': 0.692087767137666, 'alpha_svc': 0.5366295278804514, 'alpha_log': 0.5025057197793034, 'alpha_gauss': 0.0627923191858953, 'alpha_ber': 0.1924977673433555}. Best is trial 22 with value: 0.9870029761448968.\n",
      "[I 2024-04-18 19:11:12,901] Trial 46 finished with value: 0.9864516491314048 and parameters: {'alpha_lgb': 0.6941747786499769, 'alpha_svc': 0.3017455005175662, 'alpha_log': 0.5163082531368375, 'alpha_gauss': 0.07172730158133389, 'alpha_ber': 0.16945571326909295}. Best is trial 22 with value: 0.9870029761448968.\n",
      "[I 2024-04-18 19:11:13,222] Trial 47 finished with value: 0.986316369817909 and parameters: {'alpha_lgb': 0.6882121027024867, 'alpha_svc': 0.3160863761740435, 'alpha_log': 0.5341200420582528, 'alpha_gauss': 0.08258926130322648, 'alpha_ber': 0.1826801310803778}. Best is trial 22 with value: 0.9870029761448968.\n",
      "[I 2024-04-18 19:11:24,841] Trial 48 finished with value: 0.9863852856945955 and parameters: {'alpha_lgb': 0.6821814648034445, 'alpha_svc': 0.2879733479863613, 'alpha_log': 0.501895542757735, 'alpha_gauss': 0.06761102817453851, 'alpha_ber': 0.18559218544095848}. Best is trial 22 with value: 0.9870029761448968.\n",
      "[I 2024-04-18 19:11:25,445] Trial 49 finished with value: 0.9865052503688276 and parameters: {'alpha_lgb': 0.710783358677108, 'alpha_svc': 0.28030563226868277, 'alpha_log': 0.4721754017662577, 'alpha_gauss': 0.06479544344286002, 'alpha_ber': 0.1749036727198958}. Best is trial 22 with value: 0.9870029761448968.\n"
     ]
    }
   ],
   "source": [
    "tpe_sampler = optuna.samplers.TPESampler(\n",
    "        n_startup_trials= 20, # объем разведки. Всегда настраивайте!\n",
    "        n_ei_candidates=16, # влияет на \"точность шага\"\n",
    ")\n",
    "study = start_optimization(objective, n_trials = 50, n_jobs = -1,tpe_sampler = tpe_sampler, X_tr = X_tr, \n",
    "                           y_tr = y_tr,\n",
    "                          X_val = X_val,\n",
    "                          y_val = y_val,\n",
    "                          columns=columns)"
   ]
  },
  {
   "cell_type": "code",
   "execution_count": 34,
   "metadata": {},
   "outputs": [],
   "source": [
    "weights = study.best_params"
   ]
  },
  {
   "cell_type": "code",
   "execution_count": 35,
   "metadata": {},
   "outputs": [
    {
     "data": {
      "text/plain": [
       "{'alpha_lgb': 0.7659549128900517,\n",
       " 'alpha_svc': 0.4191003508625777,\n",
       " 'alpha_log': 0.38378218864614627,\n",
       " 'alpha_gauss': 0.008251912475198554,\n",
       " 'alpha_ber': 0.01152695938769277}"
      ]
     },
     "execution_count": 35,
     "metadata": {},
     "output_type": "execute_result"
    }
   ],
   "source": [
    "weights"
   ]
  },
  {
   "cell_type": "code",
   "execution_count": 36,
   "metadata": {},
   "outputs": [],
   "source": [
    "params = {'objective': 'binary', \n",
    "              'metric': 'binary_logloss', \n",
    "              'eta': 0.12, \n",
    "              'max_depth': 8,\n",
    "              'verbosity': -1, \n",
    "              'num_boost_round':100,\n",
    "              'random_state': 42,\n",
    "              }\n",
    "    \n",
    "    \n",
    "    \n",
    "alpha_lgb = weights['alpha_lgb']\n",
    "alpha_svc = weights['alpha_svc']\n",
    "alpha_log = weights['alpha_log']\n",
    "alpha_gauss = weights['alpha_gauss']\n",
    "alpha_ber = weights['alpha_ber']\n",
    "\n",
    "dataset = lgb.Dataset(X_tr, y_tr)\n",
    "lgb_model = lgb.train(params, dataset)\n",
    "y_lgb = lgb_model.predict(X_val)\n",
    "    \n",
    "    \n",
    "SVC_model = SVC(C = 0.7, kernel='rbf', random_state = 42, probability = True).fit(X_tr[columns], y_tr)\n",
    "y_SVC = SVC_model.predict_proba(X_val[columns])[:, 1]\n",
    "    \n",
    "    \n",
    "Log_model = LogisticRegression(penalty = 'l1', random_state = 42, solver = 'liblinear').fit(X_tr, y_tr)\n",
    "y_log = Log_model.predict_proba(X_val)[:, 1]\n",
    "\n",
    "    \n",
    "    \n",
    "gauss_model = GaussianNB().fit(X_tr, y_tr)\n",
    "y_gauss = gauss_model.predict_proba(X_val)[:, 1]\n",
    "\n",
    "    \n",
    "bernulli_model = BernoulliNB().fit(X_tr, y_tr)\n",
    "y_ber = bernulli_model.predict_proba(X_val)[:, 1]\n",
    "    \n",
    "    \n",
    "    \n",
    "y_final = alpha_lgb * y_lgb + alpha_svc * y_SVC + alpha_log * y_log + alpha_gauss * y_gauss + alpha_ber * y_ber\n"
   ]
  },
  {
   "cell_type": "code",
   "execution_count": 40,
   "metadata": {},
   "outputs": [
    {
     "data": {
      "text/plain": [
       "array([0.05229534, 1.5572143 , 0.01989572, ..., 0.00172616, 0.04116537,\n",
       "       0.63232229])"
      ]
     },
     "execution_count": 40,
     "metadata": {},
     "output_type": "execute_result"
    }
   ],
   "source": [
    "y_final"
   ]
  },
  {
   "cell_type": "code",
   "execution_count": 42,
   "metadata": {},
   "outputs": [
    {
     "name": "stdout",
     "output_type": "stream",
     "text": [
      "(0.9537275064267352, 0.7907790779077908)\n"
     ]
    }
   ],
   "source": [
    "y_val_probas = y_final\n",
    "best = (0, 0)\n",
    "for threshold in np.linspace(0, 1, 10000):\n",
    "    best = max(best, (f1_score(y_val, (y_val_probas > threshold)), threshold))\n",
    "print(best)"
   ]
  },
  {
   "cell_type": "code",
   "execution_count": 43,
   "metadata": {},
   "outputs": [],
   "source": [
    "pl.DataFrame(model.predict(tst_new) > best[1], schema={\"target\": pl.Int64}).write_csv(\n",
    "    \"./baseline_submission_3.csv\"\n",
    ")"
   ]
  },
  {
   "cell_type": "code",
   "execution_count": null,
   "metadata": {},
   "outputs": [],
   "source": []
  }
 ],
 "metadata": {
  "kernelspec": {
   "display_name": "aim-ml-5t7PhdPt-py3.11",
   "language": "python",
   "name": "python3"
  },
  "language_info": {
   "codemirror_mode": {
    "name": "ipython",
    "version": 3
   },
   "file_extension": ".py",
   "mimetype": "text/x-python",
   "name": "python",
   "nbconvert_exporter": "python",
   "pygments_lexer": "ipython3",
   "version": "3.9.18"
  }
 },
 "nbformat": 4,
 "nbformat_minor": 2
}
